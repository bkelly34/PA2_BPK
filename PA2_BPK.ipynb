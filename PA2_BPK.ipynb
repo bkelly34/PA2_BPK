{
 "cells": [
  {
   "cell_type": "markdown",
   "id": "7f560757-b9f8-4d83-8fcd-4e1f265822b9",
   "metadata": {},
   "source": [
    "# Working with Control Structures\n",
    "---\n",
    "**Author:** Ben Kelly\n",
    "**Version:** 1.0\n",
    "**Semester:** Spring 2024"
   ]
  },
  {
   "cell_type": "markdown",
   "id": "2bae29a1-fe70-4af3-a86a-dd4d5ba5bbb3",
   "metadata": {},
   "source": [
    "### Problem 1 - Printing Numbers"
   ]
  },
  {
   "cell_type": "code",
   "execution_count": 2,
   "id": "7bc0e950-2728-4c98-8965-26cd09491d01",
   "metadata": {
    "tags": []
   },
   "outputs": [
    {
     "name": "stdout",
     "output_type": "stream",
     "text": [
      "0\n",
      "1\n",
      "2\n",
      "3\n",
      "4\n",
      "5\n",
      "6 *\n",
      "7\n",
      "8\n",
      "9 *\n",
      "10\n",
      "11\n",
      "12 *\n",
      "13\n",
      "14\n",
      "15 *\n",
      "16\n",
      "17\n",
      "18 *\n",
      "19\n",
      "20\n",
      "21 *\n",
      "22\n",
      "23\n",
      "24 *\n",
      "25\n",
      "26\n",
      "27 *\n",
      "28\n",
      "29\n",
      "30 *\n",
      "31\n",
      "32\n",
      "33 *\n",
      "34\n",
      "35\n",
      "36 *\n",
      "37\n",
      "38\n",
      "39 *\n",
      "40\n",
      "41\n",
      "42 *\n",
      "43\n",
      "44\n",
      "45 *\n",
      "46\n",
      "47\n",
      "48 *\n",
      "49\n",
      "50\n",
      "51 *\n",
      "52\n",
      "53\n",
      "54 *\n",
      "55\n",
      "56\n",
      "57 *\n",
      "58\n",
      "59\n",
      "60 *\n",
      "61\n",
      "62\n",
      "63 *\n",
      "64\n",
      "65\n",
      "66 *\n",
      "67\n",
      "68\n",
      "69 *\n",
      "70\n",
      "71\n",
      "72 *\n",
      "73\n",
      "74\n",
      "75 *\n",
      "76\n",
      "77\n",
      "78 *\n",
      "79\n",
      "80\n",
      "81 *\n",
      "82\n",
      "83\n",
      "84 *\n",
      "85\n",
      "86\n",
      "87 *\n",
      "88\n",
      "89\n",
      "90 *\n",
      "91\n",
      "92\n",
      "93 *\n",
      "94\n",
      "95\n",
      "96 *\n",
      "97\n",
      "98\n",
      "99 *\n",
      "100\n"
     ]
    }
   ],
   "source": [
    "for number in range (101):\n",
    "    if number % 3 == 0 and number != 0 and number != 3:\n",
    "        print(f\"{number} *\")\n",
    "    else:\n",
    "        print(number)"
   ]
  },
  {
   "cell_type": "markdown",
   "id": "ceab52fc-9c85-4ce0-b369-46302a8655cd",
   "metadata": {},
   "source": [
    "### Problem 2 - Age Status"
   ]
  },
  {
   "cell_type": "code",
   "execution_count": 13,
   "id": "8427a893-5ed8-46fc-a440-835f587f8d13",
   "metadata": {
    "tags": []
   },
   "outputs": [
    {
     "name": "stdin",
     "output_type": "stream",
     "text": [
      "Enter the subject's age. Type 0 to quit. 9\n"
     ]
    },
    {
     "name": "stdout",
     "output_type": "stream",
     "text": [
      "Minor\n"
     ]
    },
    {
     "name": "stdin",
     "output_type": "stream",
     "text": [
      "Enter the subject's age. Type 0 to quit. 24\n"
     ]
    },
    {
     "name": "stdout",
     "output_type": "stream",
     "text": [
      "Adult\n"
     ]
    },
    {
     "name": "stdin",
     "output_type": "stream",
     "text": [
      "Enter the subject's age. Type 0 to quit. 88\n"
     ]
    },
    {
     "name": "stdout",
     "output_type": "stream",
     "text": [
      "Senior citizen\n"
     ]
    },
    {
     "name": "stdin",
     "output_type": "stream",
     "text": [
      "Enter the subject's age. Type 0 to quit. 0\n"
     ]
    },
    {
     "name": "stdout",
     "output_type": "stream",
     "text": [
      "Done!\n"
     ]
    }
   ],
   "source": [
    "age = int\n",
    "while age != 0:\n",
    "    age = int(input(\"Enter the subject's age. Type 0 to quit.\"))\n",
    "       \n",
    "    if age == 0:\n",
    "        print(\"Done!\")\n",
    "        break\n",
    "    if 0 < age <18:\n",
    "        print(\"Minor\")\n",
    "    elif 18 <= age < 65:\n",
    "        print(\"Adult\")\n",
    "    else:\n",
    "        print(\"Senior citizen\")\n",
    "    \n",
    "    \n",
    "        \n"
   ]
  },
  {
   "cell_type": "markdown",
   "id": "37a847f8-fbe0-41a2-b488-31c1cf3fd3a4",
   "metadata": {},
   "source": [
    "### Problem 3 - Age Status v2"
   ]
  },
  {
   "cell_type": "code",
   "execution_count": 4,
   "id": "4dfb297a-d663-4b5c-bbdf-10ab7a040743",
   "metadata": {
    "tags": []
   },
   "outputs": [
    {
     "name": "stdout",
     "output_type": "stream",
     "text": [
      "65 : Senior citizen\n",
      "78 : Senior citizen\n",
      "34 : Adult\n",
      "56 : Adult\n",
      "12 : Minor\n",
      "9 : Minor\n",
      "43 : Adult\n",
      "67 : Senior citizen\n"
     ]
    }
   ],
   "source": [
    "list = [65, 78, 34, 56, 12, 9, 43, 67]\n",
    "\n",
    "for age in list:\n",
    "    if age < 18:\n",
    "        group = \"Minor\"\n",
    "    elif 18 <= age < 65:\n",
    "        group = \"Adult\"\n",
    "    else:\n",
    "        group = \"Senior citizen\"\n",
    "        \n",
    "    print(f\"{age} : {group}\")\n",
    "    \n",
    "        "
   ]
  },
  {
   "cell_type": "markdown",
   "id": "ea1f5261-d947-4fa3-b693-58362aa7f13c",
   "metadata": {},
   "source": [
    "### Problem 4 - Calculating Pi"
   ]
  },
  {
   "cell_type": "code",
   "execution_count": 12,
   "id": "7864d4fc-211a-45db-aa31-97054c3e417b",
   "metadata": {
    "tags": []
   },
   "outputs": [
    {
     "name": "stdout",
     "output_type": "stream",
     "text": [
      "π=3.1315929035585537 using 100 terms.\n",
      "π=3.140592653839794 using 1000 terms.\n",
      "π=3.1414926535900345 using 10000 terms.\n",
      "π=3.1415826535897198 using 100000 terms.\n",
      "π=3.1415916535897743 using 1000000 terms.\n"
     ]
    }
   ],
   "source": [
    "def calculate_pi(runs):\n",
    "    pi = 0\n",
    "    n = 0\n",
    "    \n",
    "    while n < runs:\n",
    "        pi += 4*((-1)**n / (2*n +1))\n",
    "        n += 1\n",
    "        \n",
    "    return pi\n",
    "\n",
    "list = [100, 1000, 10000, 100000, 1000000]\n",
    "\n",
    "for runs in list:\n",
    "    pi_calculation = calculate_pi(runs)\n",
    "    print(f\"π={pi_calculation} using {runs} terms.\")"
   ]
  }
 ],
 "metadata": {
  "kernelspec": {
   "display_name": "Python 3 (ipykernel)",
   "language": "python",
   "name": "python3"
  },
  "language_info": {
   "codemirror_mode": {
    "name": "ipython",
    "version": 3
   },
   "file_extension": ".py",
   "mimetype": "text/x-python",
   "name": "python",
   "nbconvert_exporter": "python",
   "pygments_lexer": "ipython3",
   "version": "3.11.5"
  }
 },
 "nbformat": 4,
 "nbformat_minor": 5
}
